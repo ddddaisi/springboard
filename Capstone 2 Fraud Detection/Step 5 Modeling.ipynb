{
 "cells": [
  {
   "cell_type": "markdown",
   "metadata": {},
   "source": [
    "# Step 5 Modeling\n",
    "\n",
    "**Introduction**\n",
    "\n",
    "IEEE Computational Intelligence Society (IEEE-CIS) works across a variety of AI and machine learning areas, including deep neural networks, fuzzy systems, evolutionary computation, and swarm intelligence. Today they’re partnering with Vesta, the world’s leading payment service company, seeking the best solutions for the fraud detection industry. The fraud prevention system used by Vesta is actually saving consumers millions of dollars per year. Researchers from the IEEE-CIS want to improve fraud detection accuracy but also the customer experiences.\n",
    "\n",
    "**Data Source**\n",
    "\n",
    "The data comes from Vesta’s real-world e-commerce transactions and contains a wide range of features from device type to product features, available in Kaggle competition (https://www.kaggle.com/c/ieee-fraud-detection/data). Only train_identity and train_transaction datasets will be used for this project.\n",
    "\n",
    "**The Data Science Method**  \n",
    "\n",
    "1.   Problem Identification \n",
    "\n",
    "2.   Data Wrangling \n",
    " \n",
    "3.   Exploratory Data Analysis\n",
    "\n",
    "4.   Pre-processing and Training Data Development\n",
    "\n",
    "5.   **Modeling**\n",
    "    - Logistic Regression\n",
    "    - Decision Trees\n",
    "    - Random Forest - Ensemble Method\n",
    "    - Gradient Boosting/XGBoost\n",
    "\n",
    "6.   Documentation"
   ]
  },
  {
   "cell_type": "code",
   "execution_count": 1,
   "metadata": {},
   "outputs": [],
   "source": [
    "import os\n",
    "import pandas as pd\n",
    "import datetime\n",
    "import seaborn as sns\n",
    "import matplotlib.pyplot as plt\n",
    "import numpy as np\n",
    "%matplotlib inline\n",
    "import warnings\n",
    "warnings.filterwarnings('ignore')\n",
    "#os.getcwd()"
   ]
  },
  {
   "cell_type": "code",
   "execution_count": 2,
   "metadata": {},
   "outputs": [],
   "source": [
    "path=\"/Users/huluhulu/Desktop/Capstone 2 Fraud Detection/data\"\n",
    "os.chdir(path) \n",
    "\n",
    "df = pd.read_csv('step3_output.csv')\n",
    "test = pd.read_csv('test.csv')\n",
    "test = test[['TransactionID', 'TransactionDT', 'TransactionAmt', 'ProductCD', 'card1', 'card2', 'card3', 'card4', 'card5', 'card6', 'addr1', 'addr2', 'P_emaildomain', 'C3', 'D1', 'D4', 'D10', 'D15', 'M6', 'V25', 'V26', 'V46', 'V47', 'V55', 'V56', 'V61', 'V62', 'V66', 'V67', 'V77', 'V78', 'V82', 'V83', 'V98', 'V104', 'V105', 'V106', 'V107', 'V108', 'V109', 'V110', 'V114', 'V115', 'V116', 'V118', 'V120', 'V121', 'V122', 'V124', 'V281', 'V282', 'V283', 'V284', 'V286', 'V291', 'V297', 'V299', 'V305', 'V311']]"
   ]
  },
  {
   "cell_type": "code",
   "execution_count": 3,
   "metadata": {},
   "outputs": [
    {
     "name": "stdout",
     "output_type": "stream",
     "text": [
      "   TransactionID  isFraud  TransactionDT  TransactionAmt ProductCD  card1  \\\n",
      "0        2987001        0          86401            29.0         W   2755   \n",
      "1        2987002        0          86469            59.0         W   4663   \n",
      "2        2987003        0          86499            50.0         W  18132   \n",
      "3        2987005        0          86510            49.0         W   5937   \n",
      "4        2987006        0          86522           159.0         W  12308   \n",
      "\n",
      "   card2  card3       card4  card5  ... V281  V282  V283 V284  V286  V291  \\\n",
      "0  404.0  150.0  mastercard  102.0  ...  0.0   1.0   1.0  0.0   0.0   1.0   \n",
      "1  490.0  150.0        visa  166.0  ...  0.0   1.0   1.0  0.0   0.0   1.0   \n",
      "2  567.0  150.0  mastercard  117.0  ...  0.0   0.0   0.0  0.0   0.0   1.0   \n",
      "3  555.0  150.0        visa  226.0  ...  0.0   1.0   1.0  0.0   0.0   1.0   \n",
      "4  360.0  150.0        visa  166.0  ...  0.0   1.0   1.0  0.0   0.0   1.0   \n",
      "\n",
      "   V297  V299  V305 V311  \n",
      "0   0.0   0.0   1.0  0.0  \n",
      "1   0.0   0.0   1.0  0.0  \n",
      "2   0.0   0.0   1.0  0.0  \n",
      "3   0.0   0.0   1.0  0.0  \n",
      "4   0.0   0.0   1.0  0.0  \n",
      "\n",
      "[5 rows x 60 columns]\n",
      "   TransactionID  TransactionDT  TransactionAmt ProductCD  card1  card2  \\\n",
      "0        3663549       18403224           31.95         W  10409  111.0   \n",
      "1        3663550       18403263           49.00         W   4272  111.0   \n",
      "2        3663551       18403310          171.00         W   4476  574.0   \n",
      "3        3663552       18403310          284.95         W  10989  360.0   \n",
      "4        3663553       18403317           67.95         W  18018  452.0   \n",
      "\n",
      "   card3       card4  card5  card6  ...  V281  V282 V283  V284  V286  V291  \\\n",
      "0  150.0        visa  226.0  debit  ...   0.0   0.0  0.0   0.0   0.0   1.0   \n",
      "1  150.0        visa  226.0  debit  ...   0.0   0.0  0.0   0.0   0.0   1.0   \n",
      "2  150.0        visa  226.0  debit  ...   0.0   0.0  0.0   0.0   0.0   2.0   \n",
      "3  150.0        visa  166.0  debit  ...   0.0   1.0  1.0   0.0   0.0   1.0   \n",
      "4  150.0  mastercard  117.0  debit  ...   0.0   1.0  1.0   1.0   1.0   1.0   \n",
      "\n",
      "   V297  V299 V305       V311  \n",
      "0   0.0   0.0  1.0   0.000000  \n",
      "1   0.0   0.0  1.0   0.000000  \n",
      "2   0.0   0.0  1.0   0.000000  \n",
      "3   0.0   0.0  1.0   0.000000  \n",
      "4   0.0   0.0  1.0  67.949997  \n",
      "\n",
      "[5 rows x 59 columns]\n"
     ]
    }
   ],
   "source": [
    "print(df.head())\n",
    "print(test.head())"
   ]
  },
  {
   "cell_type": "markdown",
   "metadata": {},
   "source": [
    "#### Some Feature Engineering\n",
    "See Step 4"
   ]
  },
  {
   "cell_type": "code",
   "execution_count": 4,
   "metadata": {},
   "outputs": [],
   "source": [
    "# Train\n",
    "df['TransactionAmt_log'] = np.log(df['TransactionAmt'])\n",
    "df['Transaction_day'] = np.floor((df['TransactionDT'] / (3600 * 24) - 1) % 7)\n",
    "df['Transaction_hour'] = np.floor(df['TransactionDT'] / 3600) % 24\n",
    "    \n",
    "# Card features encoding\n",
    "for col in ['card1', 'card2', 'card3', 'card4', 'card5', 'card6']:\n",
    "    freq = df[col].value_counts(dropna=False).to_dict()\n",
    "    df[col+'_freq'] = df[col].map(freq)\n",
    "\n",
    " # email feature\n",
    "df['P_emaildomain'] = df['P_emaildomain'].fillna('email_not_provided')\n",
    "df['P_prefix'] = df['P_emaildomain'].apply(lambda x: x.split('.')[0])\n",
    "\n",
    "    # objects\n",
    "from sklearn.preprocessing import LabelEncoder\n",
    "for col in df.drop('isFraud', axis=1).columns:\n",
    "    if df[col].dtype == 'object':\n",
    "        le = LabelEncoder()\n",
    "        le.fit(list(df[col].astype(str).values))\n",
    "        df[col] = le.transform(list(df[col].astype(str).values))\n",
    "        \n",
    "# V features - normalization\n",
    "V = df[['V25', 'V26', 'V46', 'V47', 'V55', 'V56', 'V61', 'V62', 'V66', 'V67', 'V77', 'V78', 'V82', 'V83', 'V98', 'V104', 'V105', 'V106', 'V107', 'V108', 'V109', 'V110', 'V114', 'V115', 'V116', 'V118', 'V120', 'V121', 'V122', 'V124', 'V281', 'V282', 'V283', 'V284', 'V286', 'V291', 'V297', 'V299', 'V305', 'V311']]\n",
    "for v in V:\n",
    "    df[v] = (df[v] - df[v].mean()) / df[v].std()\n",
    "\n",
    "# Fill NAs\n",
    "for col in ['addr1', 'addr2', 'card2', 'card5', 'card3']:\n",
    "    df[col].fillna(-1, inplace=True)\n"
   ]
  },
  {
   "cell_type": "code",
   "execution_count": 5,
   "metadata": {},
   "outputs": [],
   "source": [
    "#Test\n",
    "test['TransactionAmt_log'] = np.log(test['TransactionAmt'])\n",
    "test['Transaction_day'] = np.floor((test['TransactionDT'] / (3600 * 24) - 1) % 7)\n",
    "test['Transaction_hour'] = np.floor(test['TransactionDT'] / 3600) % 24\n",
    "    \n",
    "# Card features encoding\n",
    "for col in ['card1', 'card2', 'card3', 'card4', 'card5', 'card6']:\n",
    "    freq = test[col].value_counts(dropna=False).to_dict()\n",
    "    test[col+'_freq'] = test[col].map(freq)\n",
    "\n",
    "# email feature\n",
    "test['P_emaildomain'] = test['P_emaildomain'].fillna('email_not_provided')\n",
    "test['P_prefix'] = test['P_emaildomain'].apply(lambda x: x.split('.')[0])\n",
    "\n",
    "# objects\n",
    "for col in test.columns:\n",
    "    if test[col].dtype == 'object':\n",
    "        le = LabelEncoder()\n",
    "        le.fit(list(test[col].astype(str).values))\n",
    "        test[col] = le.transform(list(test[col].astype(str).values))\n",
    "        \n",
    "# V features - normalization\n",
    "V_test = test[['V25', 'V26', 'V46', 'V47', 'V55', 'V56', 'V61', 'V62', 'V66', 'V67', 'V77', 'V78', 'V82', 'V83', 'V98', 'V104', 'V105', 'V106', 'V107', 'V108', 'V109', 'V110', 'V114', 'V115', 'V116', 'V118', 'V120', 'V121', 'V122', 'V124', 'V281', 'V282', 'V283', 'V284', 'V286', 'V291', 'V297', 'V299', 'V305', 'V311']]\n",
    "for v in V_test:\n",
    "    test[v] = (test[v] - test[v].mean()) / test[v].std()\n",
    "\n",
    "# Fill NAs\n",
    "for col in test:\n",
    "    test[col].fillna(-1, inplace=True)"
   ]
  },
  {
   "cell_type": "code",
   "execution_count": 6,
   "metadata": {},
   "outputs": [
    {
     "data": {
      "text/plain": [
       "dtype('int64')"
      ]
     },
     "execution_count": 6,
     "metadata": {},
     "output_type": "execute_result"
    }
   ],
   "source": [
    "df['isFraud'].dtype"
   ]
  },
  {
   "cell_type": "code",
   "execution_count": 8,
   "metadata": {},
   "outputs": [],
   "source": [
    "df['isFraud'] = df['isFraud'].astype(float)"
   ]
  },
  {
   "cell_type": "markdown",
   "metadata": {},
   "source": [
    "#### Split into Training, Validation, and Testing Sets"
   ]
  },
  {
   "cell_type": "code",
   "execution_count": 10,
   "metadata": {},
   "outputs": [],
   "source": [
    "X = df.sort_values('TransactionDT').drop(['isFraud', 'TransactionDT', 'TransactionID'], axis=1)\n",
    "y = df.sort_values('TransactionDT')['isFraud']"
   ]
  },
  {
   "cell_type": "code",
   "execution_count": 11,
   "metadata": {},
   "outputs": [],
   "source": [
    "from sklearn.model_selection import train_test_split\n",
    "X_train, X_test, y_train, y_test = train_test_split(X, y, test_size=0.2, random_state=123)\n",
    "X_train, x_cv, y_train, y_cv = train_test_split(X_train, y_train, test_size = 0.25, train_size =0.75, random_state=123)"
   ]
  },
  {
   "cell_type": "markdown",
   "metadata": {},
   "source": [
    "#### Oversampling - SMOTE"
   ]
  },
  {
   "cell_type": "code",
   "execution_count": 12,
   "metadata": {},
   "outputs": [],
   "source": [
    "import imblearn\n",
    "from imblearn.over_sampling import SMOTE\n",
    "sm = SMOTE(random_state=123)\n",
    "X_train_sm, y_train_sm = sm.fit_sample(X_train, y_train)"
   ]
  },
  {
   "cell_type": "markdown",
   "metadata": {},
   "source": [
    "### Model Evaluation\n",
    "We will choose the best models based on macro-averaged f1 score\n",
    "- **Recall** = TP/(TP+FN)\n",
    "    - fraud correctly detected / (fraud correctly detected + transaction identified as nonfraud that is actually fraud)\n",
    "    - as recall increases, precision decreases\n",
    "- **Precision** = TP/(TP+FP)\n",
    "    - fraud correctly detected / (fraud correctly detected + nonfraud transaction incorrectly idenfitied as fraud)\n",
    "- **F1 score** = 2 * (recall * precision)/(recall + precision)\n",
    "    - harmonic mean of recall and precision\n",
    "- **Balanced Accuracy**: the average of recall obtained on each class, used instead of accuracy to deal with imbalanced datasets\n",
    "- **Receiver Operating Characteristic (ROC)**:\n",
    "    - plots TPR vs FPR as a function of model's threshold for classifying positive\n",
    "    - TPR = TP/(TP+FN)\n",
    "    - FPR = FP/(FP+TN)\n",
    "- **Area Under the Curve (AUC)**:\n",
    "    - metric to calculate overal performance based on the area under the ROC curve\n",
    "- Averages\n",
    "    - micro-averaged: all samples equally contributed to the average; weight towards the majority class\n",
    "    - macro-averaged: all classes equally contributed; treats examples from minority classes as being more important than those from majority classes\n",
    "    - weighted: each class' contribution to the average is weighted by its size"
   ]
  },
  {
   "cell_type": "code",
   "execution_count": 13,
   "metadata": {},
   "outputs": [],
   "source": [
    "models = [] \n",
    "precision = []\n",
    "recall = []\n",
    "f1 = []\n",
    "auc = []"
   ]
  },
  {
   "cell_type": "markdown",
   "metadata": {},
   "source": [
    "### Logistic Regression\n",
    "\n",
    "- a form of binary regression"
   ]
  },
  {
   "cell_type": "code",
   "execution_count": 14,
   "metadata": {},
   "outputs": [],
   "source": [
    "from sklearn import metrics\n",
    "from sklearn.metrics import precision_score, recall_score, f1_score, balanced_accuracy_score, roc_auc_score\n",
    "from sklearn import tree\n",
    "from sklearn.linear_model import LogisticRegression\n",
    "from sklearn.model_selection import GridSearchCV\n",
    "from sklearn.ensemble import RandomForestClassifier\n",
    "from sklearn.neighbors import KNeighborsClassifier"
   ]
  },
  {
   "cell_type": "code",
   "execution_count": 15,
   "metadata": {},
   "outputs": [
    {
     "name": "stdout",
     "output_type": "stream",
     "text": [
      "Logistic Regression, after oversampling\n",
      "Balanced accuracy score: 0.6907\n",
      "Precision score 0.5323\n",
      "Recall score 0.5009\n",
      "F1 score 0.5009\n",
      "AUC ROC score 0.6907\n"
     ]
    }
   ],
   "source": [
    "lr1 = LogisticRegression()\n",
    "lr1.fit(X_train_sm, y_train_sm)\n",
    "y_pred1 = lr1.predict(X_test)\n",
    "\n",
    "print(\"Logistic Regression, after oversampling\")\n",
    "print(\"Balanced accuracy score: {:.4f}\".format(balanced_accuracy_score(y_test, y_pred1)))\n",
    "print(\"Precision score {:.4f}\".format(precision_score(y_test, y_pred1, average='macro')))\n",
    "print(\"Recall score {:.4f}\".format(f1_score(y_test, y_pred1, average='macro')))\n",
    "print(\"F1 score {:.4f}\".format(f1_score(y_test, y_pred1, average='macro')))\n",
    "print(\"AUC ROC score {:.4f}\".format(roc_auc_score(y_test, y_pred1, average='macro')))"
   ]
  },
  {
   "cell_type": "markdown",
   "metadata": {},
   "source": [
    "Here we choose the macro parameter to emphasize the minority class (fraud transactions)"
   ]
  },
  {
   "cell_type": "code",
   "execution_count": 16,
   "metadata": {},
   "outputs": [
    {
     "name": "stdout",
     "output_type": "stream",
     "text": [
      "Best parameters set found on development set: {'C': 0.1}\n",
      "CPU times: user 2min 34s, sys: 8.85 s, total: 2min 42s\n",
      "Wall time: 1min 23s\n"
     ]
    }
   ],
   "source": [
    "%%time\n",
    "param_grid = {'C': [0.05, 0.1, 0.5, 1, 5, 10]}\n",
    "\n",
    "clf1 = GridSearchCV(LogisticRegression(), param_grid, cv=5)\n",
    "clf1.fit(X_train, y_train)\n",
    "\n",
    "print(\"Best parameters set found on development set: {}\".format(clf1.best_params_))"
   ]
  },
  {
   "cell_type": "code",
   "execution_count": 17,
   "metadata": {},
   "outputs": [],
   "source": [
    "lr2 = LogisticRegression(C = 0.05)\n",
    "lr2.fit(X_train, y_train)\n",
    "y_pred2 = lr2.predict(X_test)"
   ]
  },
  {
   "cell_type": "code",
   "execution_count": 18,
   "metadata": {},
   "outputs": [
    {
     "name": "stdout",
     "output_type": "stream",
     "text": [
      "Logistic Regression, no oversampling\n",
      "Validation Results\n",
      "Precision score 0.4834\n",
      "Recall score 0.5000\n",
      "F1 score 0.4916\n",
      "\n",
      "Test Results\n",
      "Balanced accuracy score: 0.5000\n",
      "Precision score 0.4835\n",
      "Recall score 0.5000\n",
      "F1 score 0.4916\n",
      "AUC ROC score 0.5000\n"
     ]
    }
   ],
   "source": [
    "print(\"Logistic Regression, no oversampling\")\n",
    "print('Validation Results')\n",
    "print(\"Precision score {:.4f}\".format(precision_score(y_cv, lr2.predict(x_cv), average='macro')))\n",
    "print(\"Recall score {:.4f}\".format(recall_score(y_cv, lr2.predict(x_cv), average='macro')))\n",
    "print(\"F1 score {:.4f}\".format(f1_score(y_cv, lr2.predict(x_cv), average='macro')))\n",
    "print('\\nTest Results')\n",
    "print(\"Balanced accuracy score: {:.4f}\".format(balanced_accuracy_score(y_test, y_pred2)))\n",
    "print(\"Precision score {:.4f}\".format(precision_score(y_test, y_pred2, average='macro')))\n",
    "print(\"Recall score {:.4f}\".format(recall_score(y_test, y_pred2, average='macro')))\n",
    "print(\"F1 score {:.4f}\".format(f1_score(y_test, y_pred2, average='macro')))\n",
    "print(\"AUC ROC score {:.4f}\".format(roc_auc_score(y_test, y_pred2, average='macro')))"
   ]
  },
  {
   "cell_type": "code",
   "execution_count": 19,
   "metadata": {},
   "outputs": [],
   "source": [
    "models.append(\"Logistic Regression\")\n",
    "precision.append(precision_score(y_test, y_pred2, average='macro'))\n",
    "recall.append(recall_score(y_test, y_pred2, average='macro'))\n",
    "f1.append(f1_score(y_test, y_pred2, average='macro'))\n",
    "auc.append(roc_auc_score(y_test, y_pred2, average='macro'))"
   ]
  },
  {
   "cell_type": "markdown",
   "metadata": {},
   "source": [
    "### Decision tree\n",
    "- Entropy model\n",
    "    - It is a measure of uncertainty in which category the data-points fall into at a given point in the tree. In other words, given a probability distribution, the information required to predict the event is the distribution's entropy. \n",
    "    - Information gain of a specific feature with a threshold is the difference in entropy that exists before and after splitting on that feature.\n",
    "    - We want to minimize entropy and maximize informational gain\n",
    "    - Entropy outperforms gini if the proability distribution is exponential or Laplace\n",
    "- Gini impurity model\n",
    "    - Similar to entropy, a measure of how well the threshold splits the data. It's the expected error if randomly choose a sample and predict the class of the entire node based on it. The higher the gini impurity, the lower the error.\n",
    "    - It takes slightly more computation time."
   ]
  },
  {
   "cell_type": "code",
   "execution_count": 20,
   "metadata": {},
   "outputs": [
    {
     "name": "stdout",
     "output_type": "stream",
     "text": [
      "CPU times: user 3.13 s, sys: 91.4 ms, total: 3.23 s\n",
      "Wall time: 3.24 s\n"
     ]
    }
   ],
   "source": [
    "%%time\n",
    "entro = tree.DecisionTreeClassifier(criterion=\"entropy\", random_state = 123, max_depth = 10)\n",
    "entro.fit(X_train, y_train)\n",
    "y_pred3 = entro.predict(X_test)"
   ]
  },
  {
   "cell_type": "code",
   "execution_count": 21,
   "metadata": {},
   "outputs": [
    {
     "name": "stdout",
     "output_type": "stream",
     "text": [
      "Decision Tree Entropy Model, Max Depth 10\n",
      "Balanced accuracy score: 0.6344\n",
      "Precision score 0.8529\n",
      "Recall score 0.6344\n",
      "F1 score 0.6913\n",
      "ROC-AUC score 0.6344\n"
     ]
    }
   ],
   "source": [
    "print(\"Decision Tree Entropy Model, Max Depth 10\")\n",
    "print(\"Balanced accuracy score: {:.4f}\".format(balanced_accuracy_score(y_test, y_pred3)))\n",
    "print(\"Precision score {:.4f}\".format(precision_score(y_test, y_pred3, average='macro')))\n",
    "print(\"Recall score {:.4f}\".format(recall_score(y_test, y_pred3, average='macro')))\n",
    "print(\"F1 score {:.4f}\".format(f1_score(y_test, y_pred3, average='macro')))\n",
    "print(\"ROC-AUC score {:.4f}\".format(roc_auc_score(y_test, y_pred3, average='macro')))"
   ]
  },
  {
   "cell_type": "code",
   "execution_count": 22,
   "metadata": {},
   "outputs": [
    {
     "name": "stdout",
     "output_type": "stream",
     "text": [
      "Decision Tree Entropy Model, Max Depth 8\n",
      "Balanced accuracy score: 0.6131\n",
      "Precision score 0.8571\n",
      "Recall score 0.6131\n",
      "F1 score 0.6676\n",
      "ROC-AUC score 0.6131\n",
      "CPU times: user 2.67 s, sys: 102 ms, total: 2.77 s\n",
      "Wall time: 2.77 s\n"
     ]
    }
   ],
   "source": [
    "%%time\n",
    "entro2 = tree.DecisionTreeClassifier(criterion=\"entropy\", random_state = 123, max_depth = 8)\n",
    "entro2.fit(X_train, y_train)\n",
    "y_pred_3 = entro2.predict(X_test)\n",
    "print(\"Decision Tree Entropy Model, Max Depth 8\")\n",
    "print(\"Balanced accuracy score: {:.4f}\".format(balanced_accuracy_score(y_test, y_pred_3)))\n",
    "print(\"Precision score {:.4f}\".format(precision_score(y_test, y_pred_3, average='macro')))\n",
    "print(\"Recall score {:.4f}\".format(recall_score(y_test, y_pred_3, average='macro')))\n",
    "print(\"F1 score {:.4f}\".format(f1_score(y_test, y_pred_3, average='macro')))\n",
    "print(\"ROC-AUC score {:.4f}\".format(roc_auc_score(y_test, y_pred_3, average='macro')))"
   ]
  },
  {
   "cell_type": "code",
   "execution_count": 23,
   "metadata": {},
   "outputs": [
    {
     "name": "stdout",
     "output_type": "stream",
     "text": [
      "Decision Tree Gini Impurity Model, Max Depth 10\n",
      "Balanced accuracy score: 0.6357\n",
      "Precision score 0.8456\n",
      "Recall score 0.6357\n",
      "F1 score 0.6917\n",
      "ROC-AUC score 0.6357\n",
      "CPU times: user 3.17 s, sys: 82.5 ms, total: 3.25 s\n",
      "Wall time: 3.25 s\n"
     ]
    }
   ],
   "source": [
    "%%time\n",
    "gini = tree.DecisionTreeClassifier(criterion=\"gini\", random_state = 123, max_depth = 10)\n",
    "gini.fit(X_train, y_train)\n",
    "y_pred4 = gini.predict(X_test)\n",
    "\n",
    "print(\"Decision Tree Gini Impurity Model, Max Depth 10\")\n",
    "print(\"Balanced accuracy score: {:.4f}\".format(balanced_accuracy_score(y_test, y_pred4)))\n",
    "print(\"Precision score {:.4f}\".format(precision_score(y_test, y_pred4, average='macro')))\n",
    "print(\"Recall score {:.4f}\".format(recall_score(y_test, y_pred4, average='macro')))\n",
    "print(\"F1 score {:.4f}\".format(f1_score(y_test, y_pred4, average='macro')))\n",
    "print(\"ROC-AUC score {:.4f}\".format(roc_auc_score(y_test, y_pred4, average='macro')))"
   ]
  },
  {
   "cell_type": "code",
   "execution_count": 24,
   "metadata": {},
   "outputs": [
    {
     "name": "stdout",
     "output_type": "stream",
     "text": [
      "Decision Tree Gini Impurity Model, Max Depth 8\n",
      "Balanced accuracy score: 0.6072\n",
      "Precision score 0.8666\n",
      "Recall score 0.6072\n",
      "F1 score 0.6614\n",
      "ROC-AUC score 0.6072\n",
      "CPU times: user 2.74 s, sys: 110 ms, total: 2.85 s\n",
      "Wall time: 2.86 s\n"
     ]
    }
   ],
   "source": [
    "%%time\n",
    "gini = tree.DecisionTreeClassifier(criterion=\"gini\", random_state = 123, max_depth = 8)\n",
    "gini.fit(X_train, y_train)\n",
    "y_pred_4 = gini.predict(X_test)\n",
    "\n",
    "print(\"Decision Tree Gini Impurity Model, Max Depth 8\")\n",
    "print(\"Balanced accuracy score: {:.4f}\".format(balanced_accuracy_score(y_test, y_pred_4)))\n",
    "print(\"Precision score {:.4f}\".format(precision_score(y_test, y_pred_4, average='macro')))\n",
    "print(\"Recall score {:.4f}\".format(recall_score(y_test, y_pred_4, average='macro')))\n",
    "print(\"F1 score {:.4f}\".format(f1_score(y_test, y_pred_4, average='macro')))\n",
    "print(\"ROC-AUC score {:.4f}\".format(roc_auc_score(y_test, y_pred_4, average='macro')))"
   ]
  },
  {
   "cell_type": "code",
   "execution_count": 25,
   "metadata": {},
   "outputs": [
    {
     "name": "stdout",
     "output_type": "stream",
     "text": [
      "Decision Tree Entropy Model, Max Depth 10\n",
      "Validation Results\n",
      "Precision score 0.8551\n",
      "Recall score 0.6290\n",
      "F1 score 0.6857\n",
      "\n",
      "Test Results\n",
      "Balanced accuracy score: 0.6344\n",
      "Precision score 0.8529\n",
      "Recall score 0.6344\n",
      "F1 score 0.6913\n",
      "ROC-AUC score 0.6344\n"
     ]
    }
   ],
   "source": [
    "print(\"Decision Tree Entropy Model, Max Depth 10\")\n",
    "print('Validation Results')\n",
    "print(\"Precision score {:.4f}\".format(precision_score(y_cv, entro.predict(x_cv), average='macro')))\n",
    "print(\"Recall score {:.4f}\".format(recall_score(y_cv, entro.predict(x_cv), average='macro')))\n",
    "print(\"F1 score {:.4f}\".format(f1_score(y_cv, entro.predict(x_cv), average='macro')))\n",
    "print('\\nTest Results')\n",
    "print(\"Balanced accuracy score: {:.4f}\".format(balanced_accuracy_score(y_test, y_pred3)))\n",
    "print(\"Precision score {:.4f}\".format(precision_score(y_test, y_pred3, average='macro')))\n",
    "print(\"Recall score {:.4f}\".format(recall_score(y_test, y_pred3, average='macro')))\n",
    "print(\"F1 score {:.4f}\".format(f1_score(y_test, y_pred3, average='macro')))\n",
    "print(\"ROC-AUC score {:.4f}\".format(roc_auc_score(y_test, y_pred3, average='macro')))"
   ]
  },
  {
   "cell_type": "code",
   "execution_count": 26,
   "metadata": {},
   "outputs": [],
   "source": [
    "models.append(\"Decision Tree Entropy, Max Depth 10\")\n",
    "precision.append(precision_score(y_test, y_pred3, average='macro'))\n",
    "recall.append(recall_score(y_test, y_pred3, average='macro'))\n",
    "f1.append(f1_score(y_test, y_pred3, average='macro'))\n",
    "auc.append(roc_auc_score(y_test, y_pred3, average='macro'))"
   ]
  },
  {
   "cell_type": "markdown",
   "metadata": {},
   "source": [
    "### RandomForest - Ensemble method\n",
    "\n",
    "It builds upon the idea of bagging - bootstrap aggregating. Bagging samples with replacement from the dataset: from some number of trees and predetermined depth, it selects a random subset of the data (by convention roughly 2/3 with replacement) and trains a decision tree on the subset of features. It learns a classifier for each bootstrap sample and average the results of classifiers. \n",
    "\n",
    "Due to current infrustrature limitation, the tuning takes way too long. We're not expecting a huge jump"
   ]
  },
  {
   "cell_type": "code",
   "execution_count": null,
   "metadata": {},
   "outputs": [],
   "source": [
    "##### Random Forest\n",
    "#%%time\n",
    "#param_grid = { \n",
    "#    'n_estimators': [200, 500],\n",
    "#    'max_features': ['auto', 'sqrt', 'log2'],\n",
    "#    'max_depth' : [4,5,6,7,8],\n",
    "#    'criterion' :['gini', 'entropy']\n",
    "#}\n",
    "#rfc=RandomForestClassifier(random_state=123)\n",
    "#rfc_cv = GridSearchCV(estimator=rfc, param_grid=param_grid, cv= 5)\n",
    "#rfc_cv.fit(X_train, y_train)\n",
    "#print(\"Best Score:\" + str(rfc_cv.best_score_))\n",
    "#print(\"Best Parameters: \" + str(rfc_cv.best_params_))\n",
    "######"
   ]
  },
  {
   "cell_type": "code",
   "execution_count": 27,
   "metadata": {},
   "outputs": [
    {
     "name": "stdout",
     "output_type": "stream",
     "text": [
      "CPU times: user 2min 41s, sys: 1.27 s, total: 2min 43s\n",
      "Wall time: 45.6 s\n"
     ]
    }
   ],
   "source": [
    "%%time\n",
    "rfc = RandomForestClassifier(n_estimators=100, random_state = 123, n_jobs=-1)\n",
    "rfc.fit(X_train, y_train)\n",
    "y_pred5 = rfc.predict(X_test)"
   ]
  },
  {
   "cell_type": "code",
   "execution_count": 28,
   "metadata": {},
   "outputs": [
    {
     "name": "stdout",
     "output_type": "stream",
     "text": [
      "Random Forest\n",
      "Validation Results\n",
      "Precision score 0.9447\n",
      "Recall score 0.6923\n",
      "F1 score 0.7654\n",
      "\n",
      "Test Results\n",
      "Balanced accuracy score: 0.7020\n",
      "Precision score 0.9403\n",
      "Recall score 0.7020\n",
      "F1 score 0.7742\n",
      "ROC-AUC score 0.6357\n"
     ]
    }
   ],
   "source": [
    "print(\"Random Forest\")\n",
    "print('Validation Results')\n",
    "print(\"Precision score {:.4f}\".format(precision_score(y_cv, rfc.predict(x_cv), average='macro')))\n",
    "print(\"Recall score {:.4f}\".format(recall_score(y_cv, rfc.predict(x_cv), average='macro')))\n",
    "print(\"F1 score {:.4f}\".format(f1_score(y_cv, rfc.predict(x_cv), average='macro')))\n",
    "print('\\nTest Results')\n",
    "print(\"Balanced accuracy score: {:.4f}\".format(balanced_accuracy_score(y_test, y_pred5)))\n",
    "print(\"Precision score {:.4f}\".format(precision_score(y_test, y_pred5, average='macro')))\n",
    "print(\"Recall score {:.4f}\".format(recall_score(y_test, y_pred5, average='macro')))\n",
    "print(\"F1 score {:.4f}\".format(f1_score(y_test, y_pred5, average='macro')))\n",
    "print(\"ROC-AUC score {:.4f}\".format(roc_auc_score(y_test, y_pred4, average='macro')))"
   ]
  },
  {
   "cell_type": "code",
   "execution_count": 29,
   "metadata": {},
   "outputs": [],
   "source": [
    "models.append(\"Random Forest\")\n",
    "precision.append(precision_score(y_test, y_pred5, average='macro'))\n",
    "recall.append(recall_score(y_test, y_pred5, average='macro'))\n",
    "f1.append(f1_score(y_test, y_pred5, average='macro'))\n",
    "auc.append(roc_auc_score(y_test, y_pred5, average='macro'))"
   ]
  },
  {
   "cell_type": "markdown",
   "metadata": {},
   "source": [
    "### KNN"
   ]
  },
  {
   "cell_type": "code",
   "execution_count": null,
   "metadata": {},
   "outputs": [],
   "source": [
    "#%%time\n",
    "#test_scores = []\n",
    "#train_scores = []\n",
    "\n",
    "#for i in range(1,10):\n",
    "\n",
    "#    knn = KNeighborsClassifier(i)\n",
    "#    knn.fit(X_train,y_train)\n",
    "#    knn.predict(X_test)\n",
    "#    train_scores.append(knn.score(X_train,y_train))\n",
    "#    test_scores.append(knn.score(X_test,y_test))"
   ]
  },
  {
   "cell_type": "markdown",
   "metadata": {},
   "source": [
    "### Gradient Boosting and XGBoost\n",
    "\n",
    "Graident Boosting learns from residual errors directly rather than update the weights of data points. Training is done iteratively, relies on results of the tree before it and places higher weights on data that got wrong previously. \n",
    "- Cons: harder to tune but easier to overfit (as it focus on those got wrong)\n",
    "- Pros: more powerful and better performance\n",
    "\n",
    "XGBoost (Extreme Gradient Boosting) is an implementation of gradient boosted decision trees, uses advanced regularization (L1&L2) to improve generalization capabilities and therefore reduce overfitting. It delivers higher speed and performance compared to Gradient Boosting and can be distributed across clusters. XGBoost allows users to not only define custom optimization objectives and evaluation criteria but also run a cross-validation at each iteration."
   ]
  },
  {
   "cell_type": "code",
   "execution_count": 30,
   "metadata": {},
   "outputs": [],
   "source": [
    "from xgboost import XGBClassifier\n",
    "import xgboost as xgb"
   ]
  },
  {
   "cell_type": "code",
   "execution_count": null,
   "metadata": {},
   "outputs": [],
   "source": [
    "# Parameter Tuning\n",
    "#model = xgb.XGBClassifier()\n",
    "#param = {\"max_depth\": [5,10,20,30,40,50],\n",
    "#              \"min_child_weight\" : [1,3,5],\n",
    "#              \"n_estimators\": [200],\n",
    "#              \"learning_rate\": [0.05, 0.1, 0.15, 0.2],}\n",
    "#grid_search = GridSearchCV(model, param_grid=param, cv = 5, n_jobs=-1)\n",
    "#grid_search.fit(X_train, y_train)\n",
    "#grid_search.best_estimator_"
   ]
  },
  {
   "cell_type": "code",
   "execution_count": 31,
   "metadata": {},
   "outputs": [
    {
     "name": "stdout",
     "output_type": "stream",
     "text": [
      "CPU times: user 17min 41s, sys: 10.5 s, total: 17min 51s\n",
      "Wall time: 18min 30s\n"
     ]
    }
   ],
   "source": [
    "%%time\n",
    "model1 = xgb.XGBClassifier(max_depth=50, min_child_weight=1, n_estimators=200, gamma=0,\\\n",
    "                           subsample=0.8, colsample_bytree=0.8, n_jobs=-1, learning_rate=0.05)\n",
    "model1.fit(X_train, y_train)\n",
    "pred1 = model1.predict(X_test)"
   ]
  },
  {
   "cell_type": "code",
   "execution_count": 32,
   "metadata": {},
   "outputs": [
    {
     "name": "stdout",
     "output_type": "stream",
     "text": [
      "XGBoost\n",
      "Validation Results\n",
      "Precision score 0.9555\n",
      "Recall score 0.7262\n",
      "F1 score 0.7999\n",
      "\n",
      "Test Results\n",
      "Balanced accuracy score: 0.7302\n",
      "Precision score 0.9504\n",
      "Recall score 0.7302\n",
      "F1 score 0.8024\n",
      "ROC-AUC score 0.7302\n"
     ]
    }
   ],
   "source": [
    "print(\"XGBoost\")\n",
    "print('Validation Results')\n",
    "print(\"Precision score {:.4f}\".format(precision_score(y_cv, model1.predict(x_cv), average='macro')))\n",
    "print(\"Recall score {:.4f}\".format(recall_score(y_cv, model1.predict(x_cv), average='macro')))\n",
    "print(\"F1 score {:.4f}\".format(f1_score(y_cv, model1.predict(x_cv), average='macro')))\n",
    "print('\\nTest Results')\n",
    "print(\"Balanced accuracy score: {:.4f}\".format(balanced_accuracy_score(y_test, pred1)))\n",
    "print(\"Precision score {:.4f}\".format(precision_score(y_test, pred1, average='macro')))\n",
    "print(\"Recall score {:.4f}\".format(recall_score(y_test, pred1, average='macro')))\n",
    "print(\"F1 score {:.4f}\".format(f1_score(y_test, pred1, average='macro')))\n",
    "print(\"ROC-AUC score {:.4f}\".format(roc_auc_score(y_test, pred1, average='macro')))"
   ]
  },
  {
   "cell_type": "code",
   "execution_count": 33,
   "metadata": {},
   "outputs": [],
   "source": [
    "models.append(\"XGBoost\")\n",
    "precision.append(precision_score(y_test, pred1, average='macro'))\n",
    "recall.append(recall_score(y_test, pred1, average='macro'))\n",
    "f1.append(f1_score(y_test, pred1, average='macro'))\n",
    "auc.append(roc_auc_score(y_test, pred1, average='macro'))"
   ]
  },
  {
   "cell_type": "code",
   "execution_count": null,
   "metadata": {},
   "outputs": [],
   "source": [
    "%%time\n",
    "model1.fit(X_train_sm, y_train_sm)\n",
    "pred2 = model1.predict(X_test)"
   ]
  },
  {
   "cell_type": "code",
   "execution_count": null,
   "metadata": {},
   "outputs": [],
   "source": [
    "print(\"XGBoost after oversampling\")\n",
    "print('Validation Results')\n",
    "print(\"Precision score {:.4f}\".format(precision_score(y_cv, model1.predict(x_cv), average='macro')))\n",
    "print(\"Recall score {:.4f}\".format(recall_score(y_cv, model1.predict(x_cv), average='macro')))\n",
    "print(\"F1 score {:.4f}\".format(f1_score(y_cv, model1.predict(x_cv), average='macro')))\n",
    "print('\\nTest Results')\n",
    "print(\"Balanced accuracy score: {:.4f}\".format(balanced_accuracy_score(y_test, pred2)))\n",
    "print(\"Precision score {:.4f}\".format(precision_score(y_test, pred2, average='macro')))\n",
    "print(\"Recall score {:.4f}\".format(recall_score(y_test, pred2, average='macro')))\n",
    "print(\"F1 score {:.4f}\".format(f1_score(y_test, pred2, average='macro')))\n",
    "print(\"ROC-AUC score {:.4f}\".format(roc_auc_score(y_test, pred2, average='macro')))"
   ]
  },
  {
   "cell_type": "markdown",
   "metadata": {},
   "source": [
    "### Model Comparisons and Selection\n",
    "\n",
    "We will select the best fit based on f1 score"
   ]
  },
  {
   "cell_type": "code",
   "execution_count": 34,
   "metadata": {},
   "outputs": [
    {
     "data": {
      "text/html": [
       "<div>\n",
       "<style scoped>\n",
       "    .dataframe tbody tr th:only-of-type {\n",
       "        vertical-align: middle;\n",
       "    }\n",
       "\n",
       "    .dataframe tbody tr th {\n",
       "        vertical-align: top;\n",
       "    }\n",
       "\n",
       "    .dataframe thead th {\n",
       "        text-align: right;\n",
       "    }\n",
       "</style>\n",
       "<table border=\"1\" class=\"dataframe\">\n",
       "  <thead>\n",
       "    <tr style=\"text-align: right;\">\n",
       "      <th></th>\n",
       "      <th>Model</th>\n",
       "      <th>Precision</th>\n",
       "      <th>Recall</th>\n",
       "      <th>F1</th>\n",
       "      <th>AUC ROC</th>\n",
       "    </tr>\n",
       "  </thead>\n",
       "  <tbody>\n",
       "    <tr>\n",
       "      <th>0</th>\n",
       "      <td>Logistic Regression</td>\n",
       "      <td>0.483481</td>\n",
       "      <td>0.500000</td>\n",
       "      <td>0.491602</td>\n",
       "      <td>0.500000</td>\n",
       "    </tr>\n",
       "    <tr>\n",
       "      <th>1</th>\n",
       "      <td>Decision Tree Entropy, Max Depth 10</td>\n",
       "      <td>0.852852</td>\n",
       "      <td>0.634393</td>\n",
       "      <td>0.691286</td>\n",
       "      <td>0.634393</td>\n",
       "    </tr>\n",
       "    <tr>\n",
       "      <th>2</th>\n",
       "      <td>Random Forest</td>\n",
       "      <td>0.940277</td>\n",
       "      <td>0.702026</td>\n",
       "      <td>0.774226</td>\n",
       "      <td>0.702026</td>\n",
       "    </tr>\n",
       "    <tr>\n",
       "      <th>3</th>\n",
       "      <td>XGBoost</td>\n",
       "      <td>0.950389</td>\n",
       "      <td>0.730200</td>\n",
       "      <td>0.802431</td>\n",
       "      <td>0.730200</td>\n",
       "    </tr>\n",
       "  </tbody>\n",
       "</table>\n",
       "</div>"
      ],
      "text/plain": [
       "                                 Model  Precision    Recall        F1  \\\n",
       "0                  Logistic Regression   0.483481  0.500000  0.491602   \n",
       "1  Decision Tree Entropy, Max Depth 10   0.852852  0.634393  0.691286   \n",
       "2                        Random Forest   0.940277  0.702026  0.774226   \n",
       "3                              XGBoost   0.950389  0.730200  0.802431   \n",
       "\n",
       "    AUC ROC  \n",
       "0  0.500000  \n",
       "1  0.634393  \n",
       "2  0.702026  \n",
       "3  0.730200  "
      ]
     },
     "execution_count": 34,
     "metadata": {},
     "output_type": "execute_result"
    }
   ],
   "source": [
    "modelCompare = pd.DataFrame({'Model':[models[0], models[1], models[2], models[3]], \n",
    "                             'Precision': [precision[0], precision[1], precision[2], precision[3]],\n",
    "                             'Recall': [recall[0], recall[1], recall[2], recall[3]],\n",
    "                             'F1': [f1[0], f1[1], f1[2], f1[3]],\n",
    "                             'AUC ROC': [auc[0], auc[1], auc[2], auc[3]] })\n",
    "modelCompare"
   ]
  },
  {
   "cell_type": "markdown",
   "metadata": {},
   "source": [
    "### Documentation"
   ]
  },
  {
   "cell_type": "code",
   "execution_count": 39,
   "metadata": {},
   "outputs": [
    {
     "name": "stdout",
     "output_type": "stream",
     "text": [
      "30\n"
     ]
    },
    {
     "data": {
      "image/png": "[encoded data removed]",
      "text/plain": [
       "<Figure size 576x576 with 1 Axes>"
      ]
     },
     "metadata": {
      "needs_background": "light"
     },
     "output_type": "display_data"
    },
    {
     "data": {
      "text/plain": [
       "<Figure size 432x288 with 0 Axes>"
      ]
     },
     "metadata": {},
     "output_type": "display_data"
    }
   ],
   "source": [
    "feature_importance = model1.feature_importances_\n",
    "# make importances relative to max importance\n",
    "feature_importance = 100.0 * (feature_importance / feature_importance.max())[:30]\n",
    "sorted_idx = np.argsort(feature_importance)[:30]\n",
    "\n",
    "pos = np.arange(sorted_idx.shape[0]) + .5\n",
    "print(pos.size)\n",
    "sorted_idx.size\n",
    "plt.figure(figsize=(8,8))\n",
    "plt.barh(pos, feature_importance[sorted_idx], align='center')\n",
    "plt.yticks(pos, X.columns[sorted_idx])\n",
    "plt.xlabel('Relative Importance')\n",
    "plt.title('Variable Importance')\n",
    "plt.show()\n",
    "plt.savefig('figures/fig6.png',bbox_inches='tight')"
   ]
  },
  {
   "cell_type": "code",
   "execution_count": 36,
   "metadata": {},
   "outputs": [
    {
     "data": {
      "text/html": [
       "<div>\n",
       "<style scoped>\n",
       "    .dataframe tbody tr th:only-of-type {\n",
       "        vertical-align: middle;\n",
       "    }\n",
       "\n",
       "    .dataframe tbody tr th {\n",
       "        vertical-align: top;\n",
       "    }\n",
       "\n",
       "    .dataframe thead th {\n",
       "        text-align: right;\n",
       "    }\n",
       "</style>\n",
       "<table border=\"1\" class=\"dataframe\">\n",
       "  <thead>\n",
       "    <tr style=\"text-align: right;\">\n",
       "      <th></th>\n",
       "      <th>TransactionID</th>\n",
       "      <th>isFraud</th>\n",
       "    </tr>\n",
       "  </thead>\n",
       "  <tbody>\n",
       "    <tr>\n",
       "      <th>0</th>\n",
       "      <td>3663549</td>\n",
       "      <td>0.0</td>\n",
       "    </tr>\n",
       "    <tr>\n",
       "      <th>1</th>\n",
       "      <td>3663550</td>\n",
       "      <td>0.0</td>\n",
       "    </tr>\n",
       "    <tr>\n",
       "      <th>2</th>\n",
       "      <td>3663551</td>\n",
       "      <td>0.0</td>\n",
       "    </tr>\n",
       "    <tr>\n",
       "      <th>3</th>\n",
       "      <td>3663552</td>\n",
       "      <td>0.0</td>\n",
       "    </tr>\n",
       "    <tr>\n",
       "      <th>4</th>\n",
       "      <td>3663553</td>\n",
       "      <td>0.0</td>\n",
       "    </tr>\n",
       "    <tr>\n",
       "      <th>5</th>\n",
       "      <td>3663554</td>\n",
       "      <td>0.0</td>\n",
       "    </tr>\n",
       "    <tr>\n",
       "      <th>6</th>\n",
       "      <td>3663555</td>\n",
       "      <td>0.0</td>\n",
       "    </tr>\n",
       "    <tr>\n",
       "      <th>7</th>\n",
       "      <td>3663556</td>\n",
       "      <td>0.0</td>\n",
       "    </tr>\n",
       "    <tr>\n",
       "      <th>8</th>\n",
       "      <td>3663557</td>\n",
       "      <td>0.0</td>\n",
       "    </tr>\n",
       "    <tr>\n",
       "      <th>9</th>\n",
       "      <td>3663558</td>\n",
       "      <td>0.0</td>\n",
       "    </tr>\n",
       "    <tr>\n",
       "      <th>10</th>\n",
       "      <td>3663559</td>\n",
       "      <td>0.0</td>\n",
       "    </tr>\n",
       "    <tr>\n",
       "      <th>11</th>\n",
       "      <td>3663560</td>\n",
       "      <td>0.0</td>\n",
       "    </tr>\n",
       "    <tr>\n",
       "      <th>12</th>\n",
       "      <td>3663561</td>\n",
       "      <td>0.0</td>\n",
       "    </tr>\n",
       "    <tr>\n",
       "      <th>13</th>\n",
       "      <td>3663562</td>\n",
       "      <td>0.0</td>\n",
       "    </tr>\n",
       "    <tr>\n",
       "      <th>14</th>\n",
       "      <td>3663563</td>\n",
       "      <td>0.0</td>\n",
       "    </tr>\n",
       "    <tr>\n",
       "      <th>15</th>\n",
       "      <td>3663564</td>\n",
       "      <td>0.0</td>\n",
       "    </tr>\n",
       "    <tr>\n",
       "      <th>16</th>\n",
       "      <td>3663565</td>\n",
       "      <td>0.0</td>\n",
       "    </tr>\n",
       "    <tr>\n",
       "      <th>17</th>\n",
       "      <td>3663566</td>\n",
       "      <td>0.0</td>\n",
       "    </tr>\n",
       "    <tr>\n",
       "      <th>18</th>\n",
       "      <td>3663567</td>\n",
       "      <td>0.0</td>\n",
       "    </tr>\n",
       "    <tr>\n",
       "      <th>19</th>\n",
       "      <td>3663568</td>\n",
       "      <td>0.0</td>\n",
       "    </tr>\n",
       "    <tr>\n",
       "      <th>20</th>\n",
       "      <td>3663569</td>\n",
       "      <td>0.0</td>\n",
       "    </tr>\n",
       "    <tr>\n",
       "      <th>21</th>\n",
       "      <td>3663570</td>\n",
       "      <td>0.0</td>\n",
       "    </tr>\n",
       "    <tr>\n",
       "      <th>22</th>\n",
       "      <td>3663571</td>\n",
       "      <td>0.0</td>\n",
       "    </tr>\n",
       "    <tr>\n",
       "      <th>23</th>\n",
       "      <td>3663572</td>\n",
       "      <td>0.0</td>\n",
       "    </tr>\n",
       "    <tr>\n",
       "      <th>24</th>\n",
       "      <td>3663573</td>\n",
       "      <td>0.0</td>\n",
       "    </tr>\n",
       "    <tr>\n",
       "      <th>25</th>\n",
       "      <td>3663574</td>\n",
       "      <td>0.0</td>\n",
       "    </tr>\n",
       "    <tr>\n",
       "      <th>26</th>\n",
       "      <td>3663575</td>\n",
       "      <td>0.0</td>\n",
       "    </tr>\n",
       "    <tr>\n",
       "      <th>27</th>\n",
       "      <td>3663576</td>\n",
       "      <td>0.0</td>\n",
       "    </tr>\n",
       "    <tr>\n",
       "      <th>28</th>\n",
       "      <td>3663577</td>\n",
       "      <td>0.0</td>\n",
       "    </tr>\n",
       "    <tr>\n",
       "      <th>29</th>\n",
       "      <td>3663578</td>\n",
       "      <td>0.0</td>\n",
       "    </tr>\n",
       "  </tbody>\n",
       "</table>\n",
       "</div>"
      ],
      "text/plain": [
       "    TransactionID  isFraud\n",
       "0         3663549      0.0\n",
       "1         3663550      0.0\n",
       "2         3663551      0.0\n",
       "3         3663552      0.0\n",
       "4         3663553      0.0\n",
       "5         3663554      0.0\n",
       "6         3663555      0.0\n",
       "7         3663556      0.0\n",
       "8         3663557      0.0\n",
       "9         3663558      0.0\n",
       "10        3663559      0.0\n",
       "11        3663560      0.0\n",
       "12        3663561      0.0\n",
       "13        3663562      0.0\n",
       "14        3663563      0.0\n",
       "15        3663564      0.0\n",
       "16        3663565      0.0\n",
       "17        3663566      0.0\n",
       "18        3663567      0.0\n",
       "19        3663568      0.0\n",
       "20        3663569      0.0\n",
       "21        3663570      0.0\n",
       "22        3663571      0.0\n",
       "23        3663572      0.0\n",
       "24        3663573      0.0\n",
       "25        3663574      0.0\n",
       "26        3663575      0.0\n",
       "27        3663576      0.0\n",
       "28        3663577      0.0\n",
       "29        3663578      0.0"
      ]
     },
     "execution_count": 36,
     "metadata": {},
     "output_type": "execute_result"
    }
   ],
   "source": [
    "# final prediction\n",
    "test = test.sort_values('TransactionDT')\n",
    "X_test2 = test.drop(['TransactionID', 'TransactionDT'], axis=1)\n",
    "predict = model1.predict(X_test2)\n",
    "test['isFraud'] = predict\n",
    "rec = test[['TransactionID', 'isFraud']]\n",
    "rec.head(30)"
   ]
  },
  {
   "cell_type": "code",
   "execution_count": null,
   "metadata": {},
   "outputs": [],
   "source": [
    "#compare = pd.DataFrame({'predicted': pred1, 'actual': y_test, 'amount': X_test['TransactionAmt']})\n",
    "#lost = compare.loc[(compare.predicted<0.5) & (compare.actual==1)]\n",
    "#save = compare.loc[(compare.predicted>0.5) & (compare.actual==1)]\n",
    "#flag = compare.loc[(compare.predicted>0.5) & (compare.actual==0)]\n",
    "#normal = compare.loc[(compare.predicted<0.5) & (compare.actual==0)]\n",
    "#print(\"Successfuly detection saved: ${:.2f}\".format(np.sum(save.amount)))\n",
    "#print(\"Failed detection cost: ${:.2f}\".format(np.sum(lost.amount)))\n",
    "#print(\"False alarm cost: ${:.2f}\".format(np.sum(flag.amount)))\n",
    "#print(\"Normal transaction: ${:.2f}\".format(np.sum(normal.amount)))\n",
    "#print(\"Total transaction: ${:.2f}\".format(np.sum(compare.amount)))\n",
    "#print(\"prediction length \" + str(len(compare)) + \", fraud detection length \" + str(len(save)) + \", failed \" + str(len(lost)))"
   ]
  }
 ],
 "metadata": {
  "kernelspec": {
   "display_name": "Python 3",
   "language": "python",
   "name": "python3"
  },
  "language_info": {
   "codemirror_mode": {
    "name": "ipython",
    "version": 3
   },
   "file_extension": ".py",
   "mimetype": "text/x-python",
   "name": "python",
   "nbconvert_exporter": "python",
   "pygments_lexer": "ipython3",
   "version": "3.7.6"
  }
 },
 "nbformat": 4,
 "nbformat_minor": 4
}
